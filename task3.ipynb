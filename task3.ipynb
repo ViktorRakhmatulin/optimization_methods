{
 "cells": [
  {
   "cell_type": "code",
   "execution_count": 10,
   "metadata": {},
   "outputs": [
    {
     "name": "stdout",
     "output_type": "stream",
     "text": [
      "[[-3.58028884 -2.03799433]\n",
      " [-3.58028888 -2.03799429]\n",
      " [-3.58029562 -2.03798722]] [-3.58028717 -2.03799608]\n",
      "-63.867308166158736 -63.86730816850857 iteration 25\n"
     ]
    },
    {
     "data": {
      "image/png": "[encoded data removed]",
      "text/plain": [
       "<Figure size 432x288 with 1 Axes>"
      ]
     },
     "metadata": {
      "needs_background": "light"
     },
     "output_type": "display_data"
    }
   ],
   "source": [
    "import cvxpy as cp\n",
    "import numpy as np\n",
    "from math import *\n",
    "import matplotlib.pyplot as plt\n",
    "import matplotlib\n",
    "from matplotlib import cm\n",
    "from matplotlib.ticker import LinearLocator, FormatStrFormatter\n",
    "\n",
    "eps = 1e-6\n",
    "refl, expan, contr = 0.25, 0.75, 1.2\n",
    "\n",
    "def function(x: float,y : float) -> float:\n",
    "    return sin(y) * np.e**((1-cos(x))**2) + cos(x)* np.e**((1-sin(y))**2) + (x-y)**2\n",
    "\n",
    "constraints = lambda x,y: ((x+5)**2 + (y+5)**2) < 25 \n",
    "\n",
    "def func_ar(ar: np.array):\n",
    "    return function (ar[0], ar[1])\n",
    "\n",
    "#  Nelder-Mead method \n",
    "\n",
    "def sort_simplex (simplex : np.array):\n",
    "    simplex = list (simplex)\n",
    "    simplex.sort( key=lambda entry: function(entry[0], entry[1]))\n",
    "    return np.array(simplex)\n",
    "\n",
    "def case_1 (simplex : np.array, r_point : np.array):\n",
    "#     print ('case 1 simplex ' , simplex)\n",
    "    midpoint = (simplex[0] + simplex[1])/2\n",
    "    if(func_ar(simplex[0]) < func_ar(r_point)): \n",
    "        simplex[2] = r_point\n",
    "#         print('case 1 :: f(B) < f(R)')\n",
    "    else: \n",
    "        e_point = refine_coord(midpoint + expan * (r_point - midpoint))  \n",
    "#         print('case 1 :: f(B) > f(R)')\n",
    "        if (func_ar(e_point) < func_ar(simplex[0])): \n",
    "            simplex[2] = e_point\n",
    "#             print('case 1 :: f(E) < f(B)')\n",
    "        else: \n",
    "            simplex[2] = r_point\n",
    "#             print('case 1 :: f(E) > f(B)')\n",
    "    sorted_simplex = sort_simplex(simplex)\n",
    "#     print ('case 1 result simplex ' , sorted_simplex)\n",
    "    return sorted_simplex\n",
    "\n",
    "# either contract or shrink\n",
    "def case_2 (simplex : np.array, r_point : np.array):\n",
    "    midpoint = (simplex[0] + simplex[1])/2\n",
    "    if(func_ar(r_point) < func_ar(simplex[2])):\n",
    "        simplex[2] = r_point\n",
    "#         print('case_2  :: f(R) < f(W)')\n",
    "    c1 = midpoint - (midpoint - simplex[2])/2\n",
    "    c2 = midpoint + (midpoint - simplex[2])/2\n",
    "    if (func_ar(c1) < func_ar(simplex[2])): \n",
    "        simplex[2] = c1\n",
    "#         print('case_2  :: f(С1) < f(W)')\n",
    "    elif (func_ar(c2) < func_ar(simplex[2])):\n",
    "        simplex[2] = c2\n",
    "#         print('case_2  :: f(С2) < f(W)')\n",
    "    else : #Shrink towards B\n",
    "#         print('case_2  :: shrink')\n",
    "        simplex[1] = simplex[0] - (simplex[0] - simplex[1])/contr\n",
    "        simplex[2] = simplex[0] - (simplex[0] - simplex[2])/contr\n",
    "    sorted_simplex =   sort_simplex(simplex)      \n",
    "    return sorted_simplex\n",
    " \n",
    "# checks that func arguments are within given restrictions\n",
    "def refine_coord (x : np.array):\n",
    "    if (not constraints(x[0],x[1])):\n",
    "        vector = x - np.array([-5,-5])\n",
    "        length = sqrt(vector[0]**2 + vector[1]**2)+eps\n",
    "        x = np.array([-5,-5]) + 5 * vector /np.linalg.norm(vector)\n",
    "    return x\n",
    "           \n",
    "\n",
    "step = 0\n",
    "#initial simlex\n",
    "simplex = list([(-4.5,-2.0),(-3.0,-6.0), (-7.0,-8.0)])\n",
    "simplex.sort( key=lambda entry: function(entry[0], entry[1]))\n",
    "simplex = np.array(simplex)\n",
    "for x in range(3): simplex[x] = refine_coord(simplex[x])\n",
    "results = []\n",
    "for x in range(3): results.append(function(simplex[x][0],simplex[x][1]))\n",
    "\n",
    "\n",
    "midpoint = (simplex[0] + simplex[1])/2\n",
    "#Reflection Using the Point R\n",
    "r_point = refine_coord(midpoint + refl*(midpoint - simplex[2]))\n",
    "\n",
    "fig, ax = plt.subplots()\n",
    "# print (simplex , r_point)\n",
    "plt.plot([simplex[0][0],simplex[1][0],simplex[2][0], simplex[0][0]],\n",
    "             [simplex[0][1],simplex[1][1],simplex[2][1],simplex[0][1]])\n",
    "\n",
    "while (np.linalg.norm(simplex[0] - simplex[1])>eps and step<100):\n",
    "    if (func_ar(r_point) < func_ar(simplex[1])) :\n",
    "        simplex = case_1(simplex, r_point)\n",
    "    else: \n",
    "        simplex = case_2(simplex, r_point)\n",
    "    midpoint = (simplex[0] + simplex[1])/2\n",
    "    r_point = refine_coord(midpoint + refl *(midpoint - simplex[2]))\n",
    "    step+=1\n",
    "#     print (func_ar(simplex[0]) ,func_ar(r_point), 'iteration',step )\n",
    "    plt.plot([simplex[0][0],simplex[1][0],simplex[2][0], simplex[0][0]],\n",
    "             [simplex[0][1],simplex[1][1],simplex[2][1],simplex[0][1]])\n",
    "print (simplex , r_point)\n",
    "print (func_ar(simplex[0]) ,func_ar(r_point), 'iteration',step )\n",
    "ax.set(xlabel='x', ylabel='y',\n",
    "       title='Nelder-Mead method ')\n",
    "ax.grid()\n",
    "plt.show()    \n",
    "\n",
    "    \n",
    "\n"
   ]
  },
  {
   "cell_type": "code",
   "execution_count": 169,
   "metadata": {},
   "outputs": [
    {
     "name": "stdout",
     "output_type": "stream",
     "text": [
      "1.4142135623730951\n"
     ]
    }
   ],
   "source": [
    "import numpy as np\n",
    "\n",
    "a= np.array([1,1])\n",
    "print (np.linalg.norm(a))\n"
   ]
  },
  {
   "cell_type": "code",
   "execution_count": null,
   "metadata": {},
   "outputs": [],
   "source": []
  }
 ],
 "metadata": {
  "kernelspec": {
   "display_name": "Python 3",
   "language": "python",
   "name": "python3"
  },
  "language_info": {
   "codemirror_mode": {
    "name": "ipython",
    "version": 3
   },
   "file_extension": ".py",
   "mimetype": "text/x-python",
   "name": "python",
   "nbconvert_exporter": "python",
   "pygments_lexer": "ipython3",
   "version": "3.7.4"
  }
 },
 "nbformat": 4,
 "nbformat_minor": 2
}
