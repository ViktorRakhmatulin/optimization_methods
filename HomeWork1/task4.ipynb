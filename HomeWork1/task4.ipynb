{
 "cells": [
  {
   "cell_type": "code",
   "execution_count": 75,
   "metadata": {},
   "outputs": [
    {
     "name": "stdout",
     "output_type": "stream",
     "text": [
      "[-4.5 -2. ] -5.762276006426296\n",
      "[-3.13058708 -1.58211636] -106.76452073388731 18\n"
     ]
    }
   ],
   "source": [
    "import cvxpy as cp\n",
    "import numpy as np\n",
    "from math import *\n",
    "import matplotlib.pyplot as plt\n",
    "import matplotlib\n",
    "from matplotlib import cm\n",
    "from matplotlib.ticker import LinearLocator, FormatStrFormatter\n",
    "\n",
    "eps = 1e-6\n",
    "alpha = 0.00501\n",
    "\n",
    "def function(x: float,y : float) -> float:\n",
    "    return sin(y) * np.e**((1-cos(x))**2) + cos(x)* np.e**((1-sin(y))**2) + (x-y)**2\n",
    "\n",
    "constraints = lambda x,y: ((x+5)**2 + (y+5)**2) < 25 \n",
    "\n",
    "def func_ar(ar: np.array):\n",
    "    return function (ar[0], ar[1])\n",
    "\n",
    "#  Nelder-Mead method \n",
    "def part_diff (point: np.array,id_coord):\n",
    "    e = np.array([[1,0],[0,1]])\n",
    "    new_arg = point+ (e[id_coord] * eps)\n",
    "\n",
    "    res = (func_ar(new_arg)-func_ar(point))/eps\n",
    "#     print (point, new_arg, res)\n",
    "    return res\n",
    "    \n",
    "def sort_simplex (simplex : np.array):\n",
    "    simplex = list (simplex)\n",
    "    simplex.sort( key=lambda entry: function(entry[0], entry[1]))\n",
    "    return np.array(simplex)\n",
    " \n",
    "# checks that func arguments are within given restrictions\n",
    "def refine_coord (x : np.array):\n",
    "    if (not constraints(x[0],x[1])):\n",
    "        vector = x - np.array([-5,-5])\n",
    "        length = sqrt(vector[0]**2 + vector[1]**2)+eps\n",
    "        x = np.array([-5,-5]) + 5 * vector /np.linalg.norm(vector)\n",
    "    return x\n",
    "\n",
    "step = 0\n",
    "prev_point =  refine_coord(np.array([-4.5,-2.0]))\n",
    "print (prev_point,func_ar(prev_point))\n",
    "e = np.array([[1,0],[0,1]])\n",
    "cur_point = np.array(prev_point)\n",
    "f_min_cur = 1.8e+10\n",
    "while (abs(np.linalg.norm(f_min_cur-func_ar(prev_point)))>eps and step<100000):\n",
    "    prev_point = cur_point\n",
    "    coord_id = step % 2\n",
    "    gradient = part_diff(prev_point,coord_id)\n",
    "    cur_point = prev_point - gradient * alpha * e[coord_id]\n",
    "    f_min_cur = func_ar(cur_point)\n",
    "    step+=1\n",
    "    \n",
    "print (cur_point,func_ar(cur_point), step)\n",
    "\n",
    "\n",
    "    \n",
    "\n"
   ]
  },
  {
   "cell_type": "code",
   "execution_count": null,
   "metadata": {},
   "outputs": [],
   "source": []
  }
 ],
 "metadata": {
  "kernelspec": {
   "display_name": "Python 3",
   "language": "python",
   "name": "python3"
  },
  "language_info": {
   "codemirror_mode": {
    "name": "ipython",
    "version": 3
   },
   "file_extension": ".py",
   "mimetype": "text/x-python",
   "name": "python",
   "nbconvert_exporter": "python",
   "pygments_lexer": "ipython3",
   "version": "3.7.4"
  }
 },
 "nbformat": 4,
 "nbformat_minor": 2
}
